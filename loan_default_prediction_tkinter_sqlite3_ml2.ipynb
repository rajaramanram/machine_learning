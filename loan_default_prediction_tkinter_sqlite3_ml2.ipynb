{
 "cells": [
  {
   "cell_type": "code",
   "execution_count": 1,
   "metadata": {},
   "outputs": [],
   "source": [
    "import pandas as pd\n",
    "df_train = pd.read_csv(\"Downloads/archive/project_train.csv\")\n",
    "df_test = pd.read_csv(\"Downloads/archive/project_test.csv\")"
   ]
  },
  {
   "cell_type": "code",
   "execution_count": 2,
   "metadata": {},
   "outputs": [
    {
     "name": "stdout",
     "output_type": "stream",
     "text": [
      "Index(['UniqueID', 'disbursed_amount', 'asset_cost', 'ltv', 'branch_id',\n",
      "       'supplier_id', 'manufacturer_id', 'Current_pincode_ID', 'Date.of.Birth',\n",
      "       'Employment.Type', 'DisbursalDate', 'State_ID', 'Employee_code_ID',\n",
      "       'MobileNo_Avl_Flag', 'Aadhar_flag', 'PAN_flag', 'VoterID_flag',\n",
      "       'Driving_flag', 'Passport_flag', 'PERFORM_CNS.SCORE',\n",
      "       'PERFORM_CNS.SCORE.DESCRIPTION', 'PRI.NO.OF.ACCTS', 'PRI.ACTIVE.ACCTS',\n",
      "       'PRI.OVERDUE.ACCTS', 'PRI.CURRENT.BALANCE', 'PRI.SANCTIONED.AMOUNT',\n",
      "       'PRI.DISBURSED.AMOUNT', 'SEC.NO.OF.ACCTS', 'SEC.ACTIVE.ACCTS',\n",
      "       'SEC.OVERDUE.ACCTS', 'SEC.CURRENT.BALANCE', 'SEC.SANCTIONED.AMOUNT',\n",
      "       'SEC.DISBURSED.AMOUNT', 'PRIMARY.INSTAL.AMT', 'SEC.INSTAL.AMT',\n",
      "       'NEW.ACCTS.IN.LAST.SIX.MONTHS', 'DELINQUENT.ACCTS.IN.LAST.SIX.MONTHS',\n",
      "       'AVERAGE.ACCT.AGE', 'CREDIT.HISTORY.LENGTH', 'NO.OF_INQUIRIES',\n",
      "       'loan_default'],\n",
      "      dtype='object')\n"
     ]
    },
    {
     "data": {
      "text/plain": [
       "UniqueID                                 int64\n",
       "disbursed_amount                         int64\n",
       "asset_cost                               int64\n",
       "ltv                                    float64\n",
       "branch_id                                int64\n",
       "supplier_id                              int64\n",
       "manufacturer_id                          int64\n",
       "Current_pincode_ID                       int64\n",
       "Date.of.Birth                           object\n",
       "Employment.Type                         object\n",
       "DisbursalDate                           object\n",
       "State_ID                                 int64\n",
       "Employee_code_ID                         int64\n",
       "MobileNo_Avl_Flag                        int64\n",
       "Aadhar_flag                              int64\n",
       "PAN_flag                                 int64\n",
       "VoterID_flag                             int64\n",
       "Driving_flag                             int64\n",
       "Passport_flag                            int64\n",
       "PERFORM_CNS.SCORE                        int64\n",
       "PERFORM_CNS.SCORE.DESCRIPTION           object\n",
       "PRI.NO.OF.ACCTS                          int64\n",
       "PRI.ACTIVE.ACCTS                         int64\n",
       "PRI.OVERDUE.ACCTS                        int64\n",
       "PRI.CURRENT.BALANCE                      int64\n",
       "PRI.SANCTIONED.AMOUNT                    int64\n",
       "PRI.DISBURSED.AMOUNT                     int64\n",
       "SEC.NO.OF.ACCTS                          int64\n",
       "SEC.ACTIVE.ACCTS                         int64\n",
       "SEC.OVERDUE.ACCTS                        int64\n",
       "SEC.CURRENT.BALANCE                      int64\n",
       "SEC.SANCTIONED.AMOUNT                    int64\n",
       "SEC.DISBURSED.AMOUNT                     int64\n",
       "PRIMARY.INSTAL.AMT                       int64\n",
       "SEC.INSTAL.AMT                           int64\n",
       "NEW.ACCTS.IN.LAST.SIX.MONTHS             int64\n",
       "DELINQUENT.ACCTS.IN.LAST.SIX.MONTHS      int64\n",
       "AVERAGE.ACCT.AGE                        object\n",
       "CREDIT.HISTORY.LENGTH                   object\n",
       "NO.OF_INQUIRIES                          int64\n",
       "loan_default                             int64\n",
       "dtype: object"
      ]
     },
     "execution_count": 2,
     "metadata": {},
     "output_type": "execute_result"
    }
   ],
   "source": [
    "print(df_train.columns)\n",
    "df_train.dtypes"
   ]
  },
  {
   "cell_type": "code",
   "execution_count": 3,
   "metadata": {},
   "outputs": [
    {
     "data": {
      "text/plain": [
       "<matplotlib.axes._subplots.AxesSubplot at 0x44d37d7850>"
      ]
     },
     "execution_count": 3,
     "metadata": {},
     "output_type": "execute_result"
    },
    {
     "data": {
      "image/png": "[encoded data removed]",
      "text/plain": [
       "<Figure size 432x288 with 1 Axes>"
      ]
     },
     "metadata": {
      "needs_background": "light"
     },
     "output_type": "display_data"
    }
   ],
   "source": [
    "import seaborn as sns\n",
    "sns.countplot(x=df_train['loan_default'])"
   ]
  },
  {
   "cell_type": "code",
   "execution_count": 4,
   "metadata": {},
   "outputs": [
    {
     "name": "stdout",
     "output_type": "stream",
     "text": [
      "UniqueID                                  0\n",
      "disbursed_amount                          0\n",
      "asset_cost                                0\n",
      "ltv                                       0\n",
      "branch_id                                 0\n",
      "supplier_id                               0\n",
      "manufacturer_id                           0\n",
      "Current_pincode_ID                        0\n",
      "Date.of.Birth                             0\n",
      "Employment.Type                        7661\n",
      "DisbursalDate                             0\n",
      "State_ID                                  0\n",
      "Employee_code_ID                          0\n",
      "MobileNo_Avl_Flag                         0\n",
      "Aadhar_flag                               0\n",
      "PAN_flag                                  0\n",
      "VoterID_flag                              0\n",
      "Driving_flag                              0\n",
      "Passport_flag                             0\n",
      "PERFORM_CNS.SCORE                         0\n",
      "PERFORM_CNS.SCORE.DESCRIPTION             0\n",
      "PRI.NO.OF.ACCTS                           0\n",
      "PRI.ACTIVE.ACCTS                          0\n",
      "PRI.OVERDUE.ACCTS                         0\n",
      "PRI.CURRENT.BALANCE                       0\n",
      "PRI.SANCTIONED.AMOUNT                     0\n",
      "PRI.DISBURSED.AMOUNT                      0\n",
      "SEC.NO.OF.ACCTS                           0\n",
      "SEC.ACTIVE.ACCTS                          0\n",
      "SEC.OVERDUE.ACCTS                         0\n",
      "SEC.CURRENT.BALANCE                       0\n",
      "SEC.SANCTIONED.AMOUNT                     0\n",
      "SEC.DISBURSED.AMOUNT                      0\n",
      "PRIMARY.INSTAL.AMT                        0\n",
      "SEC.INSTAL.AMT                            0\n",
      "NEW.ACCTS.IN.LAST.SIX.MONTHS              0\n",
      "DELINQUENT.ACCTS.IN.LAST.SIX.MONTHS       0\n",
      "AVERAGE.ACCT.AGE                          0\n",
      "CREDIT.HISTORY.LENGTH                     0\n",
      "NO.OF_INQUIRIES                           0\n",
      "loan_default                              0\n",
      "dtype: int64\n",
      "===========================Test Data=================================\n"
     ]
    },
    {
     "data": {
      "text/plain": [
       "UniqueID                                  0\n",
       "disbursed_amount                          0\n",
       "asset_cost                                0\n",
       "ltv                                       0\n",
       "branch_id                                 0\n",
       "supplier_id                               0\n",
       "manufacturer_id                           0\n",
       "Current_pincode_ID                        0\n",
       "Date.of.Birth                             0\n",
       "Employment.Type                        3443\n",
       "DisbursalDate                             0\n",
       "State_ID                                  0\n",
       "Employee_code_ID                          0\n",
       "MobileNo_Avl_Flag                         0\n",
       "Aadhar_flag                               0\n",
       "PAN_flag                                  0\n",
       "VoterID_flag                              0\n",
       "Driving_flag                              0\n",
       "Passport_flag                             0\n",
       "PERFORM_CNS.SCORE                         0\n",
       "PERFORM_CNS.SCORE.DESCRIPTION             0\n",
       "PRI.NO.OF.ACCTS                           0\n",
       "PRI.ACTIVE.ACCTS                          0\n",
       "PRI.OVERDUE.ACCTS                         0\n",
       "PRI.CURRENT.BALANCE                       0\n",
       "PRI.SANCTIONED.AMOUNT                     0\n",
       "PRI.DISBURSED.AMOUNT                      0\n",
       "SEC.NO.OF.ACCTS                           0\n",
       "SEC.ACTIVE.ACCTS                          0\n",
       "SEC.OVERDUE.ACCTS                         0\n",
       "SEC.CURRENT.BALANCE                       0\n",
       "SEC.SANCTIONED.AMOUNT                     0\n",
       "SEC.DISBURSED.AMOUNT                      0\n",
       "PRIMARY.INSTAL.AMT                        0\n",
       "SEC.INSTAL.AMT                            0\n",
       "NEW.ACCTS.IN.LAST.SIX.MONTHS              0\n",
       "DELINQUENT.ACCTS.IN.LAST.SIX.MONTHS       0\n",
       "AVERAGE.ACCT.AGE                          0\n",
       "CREDIT.HISTORY.LENGTH                     0\n",
       "NO.OF_INQUIRIES                           0\n",
       "dtype: int64"
      ]
     },
     "execution_count": 4,
     "metadata": {},
     "output_type": "execute_result"
    }
   ],
   "source": [
    "#check null values\n",
    "null_train=df_train.isnull().sum()\n",
    "null_test=df_test.isnull().sum()\n",
    "print(null_train)\n",
    "print(\"===========================Test Data=================================\")\n",
    "null_test"
   ]
  },
  {
   "cell_type": "code",
   "execution_count": 5,
   "metadata": {},
   "outputs": [
    {
     "data": {
      "text/plain": [
       "<matplotlib.axes._subplots.AxesSubplot at 0x44c74f7e80>"
      ]
     },
     "execution_count": 5,
     "metadata": {},
     "output_type": "execute_result"
    },
    {
     "data": {
      "image/png": "[encoded data removed]",
      "text/plain": [
       "<Figure size 864x576 with 2 Axes>"
      ]
     },
     "metadata": {
      "needs_background": "light"
     },
     "output_type": "display_data"
    }
   ],
   "source": [
    "import matplotlib.pyplot as plt\n",
    "%matplotlib inline\n",
    "corelation=df_train.corr()\n",
    "plt.figure(figsize=(12,8))\n",
    "import seaborn as sns\n",
    "sns.heatmap(corelation,xticklabels=corelation.columns,yticklabels=corelation.columns)"
   ]
  },
  {
   "cell_type": "code",
   "execution_count": 6,
   "metadata": {},
   "outputs": [
    {
     "name": "stdout",
     "output_type": "stream",
     "text": [
      "(233154, 41)\n",
      "(112392, 40)\n"
     ]
    }
   ],
   "source": [
    "print(df_train.shape)\n",
    "print(df_test.shape)"
   ]
  },
  {
   "cell_type": "code",
   "execution_count": 7,
   "metadata": {},
   "outputs": [
    {
     "data": {
      "text/plain": [
       "\"import seaborn as sns\\nplt.figure(figsize=(12,8))\\nsns.countplot(x=df_train['credit_risk_grade'])\""
      ]
     },
     "execution_count": 7,
     "metadata": {},
     "output_type": "execute_result"
    }
   ],
   "source": [
    "'''import seaborn as sns\n",
    "plt.figure(figsize=(12,8))\n",
    "sns.countplot(x=df_train['credit_risk_grade'])'''"
   ]
  },
  {
   "cell_type": "code",
   "execution_count": 8,
   "metadata": {},
   "outputs": [
    {
     "data": {
      "text/plain": [
       "<matplotlib.axes._subplots.AxesSubplot at 0x44d3b71520>"
      ]
     },
     "execution_count": 8,
     "metadata": {},
     "output_type": "execute_result"
    },
    {
     "data": {
      "image/png": "[encoded data removed]",
      "text/plain": [
       "<Figure size 432x288 with 1 Axes>"
      ]
     },
     "metadata": {
      "needs_background": "light"
     },
     "output_type": "display_data"
    }
   ],
   "source": [
    "sns.countplot(x=df_train['Employment.Type'])"
   ]
  },
  {
   "cell_type": "code",
   "execution_count": 9,
   "metadata": {},
   "outputs": [],
   "source": [
    "import numpy as np\n",
    "def credit_risk(df):\n",
    "    d1=[]\n",
    "    d2=[]\n",
    "    for i in df:\n",
    "      #round_float=round(float(i))\n",
    "      p = i.split(\"-\")\n",
    "      if len(p) == 1:\n",
    "          d1.append(p[0])\n",
    "          d2.append('unknown')\n",
    "      else:\n",
    "          d1.append(p[1])\n",
    "          d2.append(p[0])\n",
    "\n",
    "    return d1,d2"
   ]
  },
  {
   "cell_type": "code",
   "execution_count": 10,
   "metadata": {},
   "outputs": [],
   "source": [
    "def calc_number_of_ids(row):\n",
    "    return sum(row[['Aadhar_flag', 'PAN_flag', 'VoterID_flag', 'Driving_flag',\n",
    "       'Passport_flag']])\n",
    "\n",
    "def check_pri_installment(row):\n",
    "    if row['PRIMARY.INSTAL.AMT']<=1:\n",
    "        return 0\n",
    "    else:\n",
    "        return row['PRIMARY.INSTAL.AMT']\n",
    "    \n",
    "def plot_2d_space(X, y, label='Classes'):   \n",
    "    colors = ['red', 'green']\n",
    "    markers = ['o', 's']\n",
    "    for l, c, m in zip(np.unique(y), colors, markers):\n",
    "        plt.scatter(\n",
    "            X[y==l, 0],\n",
    "            X[y==l, 1],\n",
    "            c=c, label=l, marker=m\n",
    "        )\n",
    "    plt.title(label)\n",
    "    plt.legend(loc='upper right')\n",
    "    plt.show()"
   ]
  },
  {
   "cell_type": "code",
   "execution_count": 11,
   "metadata": {},
   "outputs": [],
   "source": [
    "risk_map = {'No Bureau History Available':-1, \n",
    "              'Not Scored: No Activity seen on the customer (Inactive)':-1,\n",
    "              'Not Scored: Sufficient History Not Available':-1,\n",
    "              'Not Scored: No Updates available in last 36 months':-1,\n",
    "              'Not Scored: Only a Guarantor':-1,\n",
    "              'Not Scored: More than 50 active Accounts found':-1,\n",
    "              'Not Scored: Not Enough Info available on the customer':-1,\n",
    "              'Very Low Risk':4,\n",
    "              'Low Risk':3,\n",
    "              'Medium Risk':2, \n",
    "              'High Risk':1,\n",
    "              'Very High Risk':0}\n",
    "\n",
    "sub_risk = {'unknown':-1, 'I':5, 'L':2, 'A':13, 'D':10, 'M':1, 'B':12, 'C':11, 'E':9, 'H':6, 'F':8, 'K':3,\n",
    "       'G':7, 'J':4}\n",
    "employment_map = {'Self employed':0, 'Salaried':1,np.nan:-1}"
   ]
  },
  {
   "cell_type": "code",
   "execution_count": 12,
   "metadata": {},
   "outputs": [],
   "source": [
    "def features_engineering(df):\n",
    "    df['DisbursalDate'] = pd.to_datetime(df['DisbursalDate'], format = \"%d-%m-%y\",infer_datetime_format=True)\n",
    "    df['Date.of.Birth'] = pd.to_datetime(df['Date.of.Birth'], format = \"%d-%m-%y\",infer_datetime_format=True)\n",
    "    now = pd.Timestamp('now')\n",
    "    df['Age'] = (now - df['Date.of.Birth']).astype('<m8[Y]').astype(int)\n",
    "    age_mean = int(df[df['Age']>0]['Age'].mean())\n",
    "    df.loc[:,'age'] = df['Age'].apply(lambda x: x if x>0 else age_mean)\n",
    "    df['disbursal_months_passed'] = ((now - df['DisbursalDate'])/np.timedelta64(1,'M')).astype(int)\n",
    "    df['average_act_age_in_months'] = df['AVERAGE.ACCT.AGE'].apply(lambda x : int(re.findall(r'\\d+',x)[0])*12 + int(re.findall(r'\\d+',x)[1]))\n",
    "    df['credit_history_length_in_months'] = df['CREDIT.HISTORY.LENGTH'].apply(lambda x : int(re.findall(r'\\d+',x)[0])*12 + int(re.findall(r'\\d+',x)[1]))\n",
    "    df['number_of_0'] = (df == 0).astype(int).sum(axis=1)\n",
    "    df.loc[:,'credit_risk'],df.loc[:,'credit_risk_grade']  = credit_risk(df[\"PERFORM_CNS.SCORE.DESCRIPTION\"])\n",
    "    df.loc[:, 'loan_to_asset_ratio'] = df['disbursed_amount'] /df['asset_cost']\n",
    "    df.loc[:,'no_of_accts'] = df['PRI.NO.OF.ACCTS'] + df['SEC.NO.OF.ACCTS']\n",
    "    df.loc[:,'pri_inactive_accts'] = df['PRI.NO.OF.ACCTS'] - df['PRI.ACTIVE.ACCTS']\n",
    "    df.loc[:,'sec_inactive_accts'] = df['SEC.NO.OF.ACCTS'] - df['SEC.ACTIVE.ACCTS']\n",
    "    df.loc[:,'tot_inactive_accts'] = df['pri_inactive_accts'] + df['sec_inactive_accts']\n",
    "    df.loc[:,'tot_overdue_accts'] = df['PRI.OVERDUE.ACCTS'] + df['SEC.OVERDUE.ACCTS']\n",
    "    df.loc[:,'tot_current_balance'] = df['PRI.CURRENT.BALANCE'] + df['SEC.CURRENT.BALANCE']\n",
    "    df.loc[:,'tot_sanctioned_amount'] = df['PRI.SANCTIONED.AMOUNT'] + df['SEC.SANCTIONED.AMOUNT']\n",
    "    df.loc[:,'tot_disbursed_amount'] = df['PRI.DISBURSED.AMOUNT'] + df['SEC.DISBURSED.AMOUNT']\n",
    "    df.loc[:,'tot_installment'] = df['PRIMARY.INSTAL.AMT'] + df['SEC.INSTAL.AMT']\n",
    "    df.loc[:,'bal_disburse_ratio'] = np.round((1+df['tot_disbursed_amount'])/(1+df['tot_current_balance']),2)\n",
    "    df.loc[:,'pri_tenure'] = (df['PRI.DISBURSED.AMOUNT']/( df['PRIMARY.INSTAL.AMT']+1)).astype(int)\n",
    "    df.loc[:,'sec_tenure'] = (df['SEC.DISBURSED.AMOUNT']/(df['SEC.INSTAL.AMT']+1)).astype(int)\n",
    "    df.loc[:,'disburse_to_sactioned_ratio'] =  np.round((df['tot_disbursed_amount']+1)/(1+df['tot_sanctioned_amount']),2)\n",
    "    df.loc[:,'active_to_inactive_act_ratio'] =  np.round((df['no_of_accts']+1)/(1+df['tot_inactive_accts']),2)\n",
    "    return df"
   ]
  },
  {
   "cell_type": "code",
   "execution_count": 13,
   "metadata": {},
   "outputs": [],
   "source": [
    "import re\n",
    "def label_data(df):\n",
    "    df.loc[:,'credit_risk_label'] = df['credit_risk'].apply(lambda x: risk_map[x])\n",
    "    df.loc[:,'sub_risk_label'] = df['credit_risk_grade'].apply(lambda x: sub_risk[x])\n",
    "    df.loc[:,'employment_label'] = df['Employment.Type'].apply(lambda x: employment_map[x])\n",
    "    return df\n",
    "def data_correction(df):\n",
    "    #Many customers have invalid date of birth, so impute invalid data with mean age\n",
    "    df.loc[:,'PRI.CURRENT.BALANCE'] = df['PRI.CURRENT.BALANCE'].apply(lambda x: 0 if x<0 else x)\n",
    "    df.loc[:,'SEC.CURRENT.BALANCE'] = df['SEC.CURRENT.BALANCE'].apply(lambda x: 0 if x<0 else x)\n",
    "    #loan that do not have current principal outstanding should have 0 primary installment\n",
    "    df.loc[:,'new_pri_installment']= df.apply(lambda x : check_pri_installment(x),axis=1)\n",
    "    return df\n",
    "def prepare_data(df):\n",
    "    df = data_correction(df)\n",
    "    df = features_engineering(df)\n",
    "    df = label_data(df)\n",
    "    return df"
   ]
  },
  {
   "cell_type": "code",
   "execution_count": 14,
   "metadata": {},
   "outputs": [
    {
     "name": "stdout",
     "output_type": "stream",
     "text": [
      "Index(['UniqueID', 'disbursed_amount', 'asset_cost', 'ltv', 'branch_id',\n",
      "       'supplier_id', 'manufacturer_id', 'Current_pincode_ID', 'Date.of.Birth',\n",
      "       'Employment.Type', 'DisbursalDate', 'State_ID', 'Employee_code_ID',\n",
      "       'MobileNo_Avl_Flag', 'Aadhar_flag', 'PAN_flag', 'VoterID_flag',\n",
      "       'Driving_flag', 'Passport_flag', 'PERFORM_CNS.SCORE',\n",
      "       'PERFORM_CNS.SCORE.DESCRIPTION', 'PRI.NO.OF.ACCTS', 'PRI.ACTIVE.ACCTS',\n",
      "       'PRI.OVERDUE.ACCTS', 'PRI.CURRENT.BALANCE', 'PRI.SANCTIONED.AMOUNT',\n",
      "       'PRI.DISBURSED.AMOUNT', 'SEC.NO.OF.ACCTS', 'SEC.ACTIVE.ACCTS',\n",
      "       'SEC.OVERDUE.ACCTS', 'SEC.CURRENT.BALANCE', 'SEC.SANCTIONED.AMOUNT',\n",
      "       'SEC.DISBURSED.AMOUNT', 'PRIMARY.INSTAL.AMT', 'SEC.INSTAL.AMT',\n",
      "       'NEW.ACCTS.IN.LAST.SIX.MONTHS', 'DELINQUENT.ACCTS.IN.LAST.SIX.MONTHS',\n",
      "       'AVERAGE.ACCT.AGE', 'CREDIT.HISTORY.LENGTH', 'NO.OF_INQUIRIES',\n",
      "       'loan_default', 'new_pri_installment', 'Age', 'age',\n",
      "       'disbursal_months_passed', 'average_act_age_in_months',\n",
      "       'credit_history_length_in_months', 'number_of_0', 'credit_risk',\n",
      "       'credit_risk_grade', 'loan_to_asset_ratio', 'no_of_accts',\n",
      "       'pri_inactive_accts', 'sec_inactive_accts', 'tot_inactive_accts',\n",
      "       'tot_overdue_accts', 'tot_current_balance', 'tot_sanctioned_amount',\n",
      "       'tot_disbursed_amount', 'tot_installment', 'bal_disburse_ratio',\n",
      "       'pri_tenure', 'sec_tenure', 'disburse_to_sactioned_ratio',\n",
      "       'active_to_inactive_act_ratio', 'credit_risk_label', 'sub_risk_label',\n",
      "       'employment_label'],\n",
      "      dtype='object')\n"
     ]
    }
   ],
   "source": [
    "pd.set_option('mode.chained_assignment',None)\n",
    "train_data = prepare_data(df_train)\n",
    "test_data = prepare_data(df_test)\n",
    "print(train_data.columns)\n",
    "#test_data.columns"
   ]
  },
  {
   "cell_type": "code",
   "execution_count": 15,
   "metadata": {},
   "outputs": [],
   "source": [
    "to_drop = ['UniqueID', 'ltv', 'branch_id','supplier_id', 'manufacturer_id', 'Current_pincode_ID', 'Date.of.Birth',\n",
    "       'Employment.Type', 'DisbursalDate', 'State_ID', 'Employee_code_ID','MobileNo_Avl_Flag', 'PRIMARY.INSTAL.AMT',\n",
    "       'PERFORM_CNS.SCORE.DESCRIPTION','AVERAGE.ACCT.AGE', 'CREDIT.HISTORY.LENGTH', \n",
    "       'loan_default', 'Age',  'credit_risk', 'credit_risk_grade',\n",
    "       ]\n",
    "features = ['disbursed_amount', 'asset_cost','Aadhar_flag', 'PAN_flag','PERFORM_CNS.SCORE','PRI.ACTIVE.ACCTS',\n",
    "       'PRI.OVERDUE.ACCTS', 'PRI.CURRENT.BALANCE', 'PRI.SANCTIONED.AMOUNT','PRI.DISBURSED.AMOUNT',  'SEC.ACTIVE.ACCTS',\n",
    "       'SEC.OVERDUE.ACCTS', 'SEC.CURRENT.BALANCE', 'SEC.SANCTIONED.AMOUNT','SEC.DISBURSED.AMOUNT',  'SEC.INSTAL.AMT',\n",
    "       'NEW.ACCTS.IN.LAST.SIX.MONTHS', 'DELINQUENT.ACCTS.IN.LAST.SIX.MONTHS',\n",
    "       'NO.OF_INQUIRIES','disbursal_months_passed','average_act_age_in_months', 'credit_history_length_in_months',\n",
    "       'number_of_0','loan_to_asset_ratio', 'no_of_accts', 'pri_inactive_accts',\n",
    "       'sec_inactive_accts', 'tot_inactive_accts', 'tot_overdue_accts',\n",
    "       'tot_current_balance', 'tot_sanctioned_amount', 'tot_disbursed_amount',\n",
    "       'tot_installment', 'bal_disburse_ratio', 'pri_tenure', 'sec_tenure',\n",
    "       'credit_risk_label','employment_label', 'age', 'new_pri_installment']"
   ]
  },
  {
   "cell_type": "code",
   "execution_count": 16,
   "metadata": {},
   "outputs": [
    {
     "name": "stdout",
     "output_type": "stream",
     "text": [
      "disbursed_amount  : distinct_value\n",
      "24565  : No. of unique Items\n",
      "[50578 47145 53278 ... 61456 51406 34259]\n",
      "------------------------------\n",
      "\n",
      "asset_cost  : distinct_value\n",
      "46252  : No. of unique Items\n",
      "[ 58400  65550  61360 ...  45233  52965 116009]\n",
      "------------------------------\n",
      "\n",
      "Aadhar_flag  : distinct_value\n",
      "2  : No. of unique Items\n",
      "[1 0]\n",
      "------------------------------\n",
      "\n",
      "PAN_flag  : distinct_value\n",
      "2  : No. of unique Items\n",
      "[0 1]\n",
      "------------------------------\n",
      "\n",
      "PERFORM_CNS.SCORE  : distinct_value\n",
      "573  : No. of unique Items\n",
      "[  0 598 305 825  17 718 818 300 786 738 688 585 615 750 801 730 758 768\n",
      " 610 653 413 709 719  16  15 701 626 717 692 501 693 762 749 702  18 763\n",
      " 599 824 575 607 819 841 656 836 427 687 743 783 733 708 772 650 342 680\n",
      " 676 548 429 597 663 667 792 707 798 606 681 830 684 686 593 746 829 651\n",
      " 710 573 695 671 729 879 603 753 502 739 605 706 657 639 785 405 690 602\n",
      " 635 630 741 625 628 766  14 809 737 722 760 640 797 505 774 620 728 694\n",
      " 679 470 823 685 832 662 627 392 643 727 660 705 726 796 611 771 586 839\n",
      " 623 700 691 793 752 644 734 582 437 601 703 675 755 740 810 661 324 759\n",
      " 646 659 583 440 638 490 609 721 574 673 600 784 652 595 777 596 655 678\n",
      " 713 362 466 399 426 532 386 821 714 508 636 537 698 590 488 608 519 398\n",
      " 308 634 666 523 642 616 455 672 451 469 567 572 723 367 369 654 641 647\n",
      " 366 845 775 724 323 461 665 493 459 512 549 335 571 617 449 540 442 594\n",
      " 757 423 568 613 562 633 309 406 517 534 649 471 344 503 499 513 699 417\n",
      " 683 624 428 732 404 711 612 805 375 629 677 569 589 363 447 431 742 689\n",
      " 767 622 474 815 495 371 343 380 781 799 631 592 542 697 584 670 580 441\n",
      " 348 696 316 756 545 669 619 385 744 453 731 416 393 448 578 390 618 554\n",
      " 782 339 835 498 452 557 581 648 712 377 536 407 507 456 430 668 327 859\n",
      " 778 419 525 372 330 563 432 538 487 485 464 403 745 478 751 773 748 564\n",
      " 401 789 664 621 614 410 632 550 591 354 446 522 588 450 509 682 560 855\n",
      " 561 472 345 337 374 481 527 736 383 435 716 790 604 425 791 359 725 439\n",
      " 303 389 735 346 637 521 844 559 457 529 496 840 336 530 533 754 302 826\n",
      " 645 415 565 543 541 556 779 500 704 820 397 539 795 467 780 558 506 566\n",
      " 555 552 811 489 411 577 473 484 436 587 579 674 516 720 807 444 544 462\n",
      " 551 816 483 510 806 747 381 378 321 812 800 535 340 465 518 770 504 764\n",
      " 468 475 438 477 494 482 511 396 418 479 520 878 570 460 424 803 547 769\n",
      " 858 379 315 546 421 310 476 497 356 715 395 553 526 576 312 890 814 445\n",
      " 454 853 658 412 434 804 761 528 458 515 514 307 408 314 319 433 492 817\n",
      " 318 350 402 400 794 368 531 388 409 422 365 333 394 347 382 463 787 301\n",
      " 357 317 802 524 420 486 491 326 306 355 864 813 480 391 361 373 358 376\n",
      " 414 351 352 320 788 370 349 360 443 869 828 338 833 341 850 808 776 870\n",
      " 329 304 328 384 387 842 834 863 847 322 311 325 868  11 873 353 765 332\n",
      " 843 364 331 849 862 822 884 852 334 831 827 838 837 313 867]\n",
      "------------------------------\n",
      "\n",
      "PRI.ACTIVE.ACCTS  : distinct_value\n",
      "40  : No. of unique Items\n",
      "[  0   1   2   5   4   8   3   6   9  11   7  14  10  12  21  20  15  16\n",
      "  18  13  19  17  31  25  23  27  26  65  32  24  22  35  34  52  28  43\n",
      "  37 144  42  39]\n",
      "------------------------------\n",
      "\n",
      "PRI.OVERDUE.ACCTS  : distinct_value\n",
      "22  : No. of unique Items\n",
      "[ 0  1  3  2 14  4  5  8  6  7  9 18 13 11 12 17 10 23 19 15 16 25]\n",
      "------------------------------\n",
      "\n",
      "PRI.CURRENT.BALANCE  : distinct_value\n",
      "71001  : No. of unique Items\n",
      "[     0  27600  72879 ...  13064 201422 390443]\n",
      "------------------------------\n",
      "\n",
      "PRI.SANCTIONED.AMOUNT  : distinct_value\n",
      "44390  : No. of unique Items\n",
      "[     0  50200  74500 ...  85629 276624 416133]\n",
      "------------------------------\n",
      "\n",
      "PRI.DISBURSED.AMOUNT  : distinct_value\n",
      "47909  : No. of unique Items\n",
      "[     0  50200  74500 ...  80226 237977 416133]\n",
      "------------------------------\n",
      "\n",
      "SEC.ACTIVE.ACCTS  : distinct_value\n",
      "23  : No. of unique Items\n",
      "[ 0  2  1  3 11  4  9  5  7  6 10 26 22  8 21 14 15 12 20 13 36 17 16]\n",
      "------------------------------\n",
      "\n",
      "SEC.OVERDUE.ACCTS  : distinct_value\n",
      "9  : No. of unique Items\n",
      "[0 1 4 5 3 2 6 8 7]\n",
      "------------------------------\n",
      "\n",
      "SEC.CURRENT.BALANCE  : distinct_value\n",
      "3190  : No. of unique Items\n",
      "[      0 1171994 5787530 ... 3618737   17326   41108]\n",
      "------------------------------\n",
      "\n",
      "SEC.SANCTIONED.AMOUNT  : distinct_value\n",
      "2223  : No. of unique Items\n",
      "[      0 1690000   40000 ... 3953133   64040   49246]\n",
      "------------------------------\n",
      "\n",
      "SEC.DISBURSED.AMOUNT  : distinct_value\n",
      "2553  : No. of unique Items\n",
      "[      0 1690000     361 ... 3953133   64040   49246]\n",
      "------------------------------\n",
      "\n",
      "SEC.INSTAL.AMT  : distinct_value\n",
      "1918  : No. of unique Items\n",
      "[   0 9382 6485 ... 2665 3500 3558]\n",
      "------------------------------\n",
      "\n",
      "NEW.ACCTS.IN.LAST.SIX.MONTHS  : distinct_value\n",
      "26  : No. of unique Items\n",
      "[ 0  1  4  2  6  3  9  5 14  8  7 13 22 10 11 12 35 17 28 15 19 23 16 20\n",
      " 18 21]\n",
      "------------------------------\n",
      "\n",
      "DELINQUENT.ACCTS.IN.LAST.SIX.MONTHS  : distinct_value\n",
      "14  : No. of unique Items\n",
      "[ 0  1  2  3  5  4  7  6  8  9 12 10 20 11]\n",
      "------------------------------\n",
      "\n",
      "NO.OF_INQUIRIES  : distinct_value\n",
      "25  : No. of unique Items\n",
      "[ 0  1  4  2  3  5  6 12  9  8 18  7 19 11 10 15 14 17 20 13 23 28 16 22\n",
      " 36]\n",
      "------------------------------\n",
      "\n",
      "disbursal_months_passed  : distinct_value\n",
      "4  : No. of unique Items\n",
      "[26 24 23 25]\n",
      "------------------------------\n",
      "\n",
      "average_act_age_in_months  : distinct_value\n",
      "192  : No. of unique Items\n",
      "[  0  23   8  21   2  56  19   7  25  15  12  47   1  30  22  11   6  33\n",
      "  37  24   4  13   5  34  45  14 154  10  18  29  44  27  17  32   9  36\n",
      "  87  52  16   3  20  40  41  55  31  28  46  66  26  39  48  58 118  60\n",
      "  61  59  74 123  83  54  53  80  77  63  49  42  51  43  38  84  62  95\n",
      "  65  57 119  89  35 120  72  69  50 139  81  75 129  90  96 147  97  93\n",
      "  70  64 101 136  79  71  76  78 115  67 104  68 122 105 128 144 116  98\n",
      " 166  94  92 117 110 100 131 132 140 109 121  82 134 142 124 156 164 130\n",
      " 138 127  91 108 157  88  73 133 175  99  85 103 114  86 112 171 143 113\n",
      " 102 135 106 111 153 151 173 150 169 161 191 126 163 162 176 369 141 183\n",
      " 107 227 182 185 125 292 167 159 168 155 195 214 203 146 148 180 149 137\n",
      " 145 270 158 184 160 179 170 192 197 199 174 188]\n",
      "------------------------------\n",
      "\n",
      "credit_history_length_in_months  : distinct_value\n",
      "294  : No. of unique Items\n",
      "[  0  23  15  24   2  56  19   7  27  33  25  86   1  66  55  21  11  10\n",
      "  70  37  64  58   4  48  45  35  20  62  34  14  17 154  26  44  89  12\n",
      "  50  22   6  38  61  51  81  13 132   9  60 134  49  16  57 155  43  29\n",
      "   3  78  18  88 231  36  54  31  32  47  59  97  91  79  28  46  39 110\n",
      "  71  85   5  41  40  30  42  82  75  53 158 147   8  74 143  77  65  83\n",
      " 136  73 102 100  68 107 135 129  87  67 120  80  63 130 104  52  72  99\n",
      " 103 125 296 161  69 101 122  84 106 137 112 144 116  95 113 139  92  76\n",
      " 119 118 159 140 121 138 105 124 193 109 182 141 145  98 271 123 115  96\n",
      " 177 178 168 128 197 127 142 150  93 196 133  90  94 117 152 153 163 108\n",
      " 205 267 166 162 148 131 111 149 179 126 114 181 171 160 175 191 328 156\n",
      " 164 239 200 290 187 157 151 186 185 167 198 279 204 174 214 169 217 183\n",
      " 246 176 189 237 190 213 184 146 238 188 172 170 173 327 236 210 201 241\n",
      " 194 232 165 220 207 218 449 192 222 235 195 245 255 306 248 265 249 206\n",
      " 221 369 355 180 202 227 203 266 282 251 226 292 337 199 250 300 307 468\n",
      " 278 234 216 211 280 257 209 260 367 208 233 224 270 295 244 339 423 349\n",
      " 242 413 215 315 343 288 320 263 212 229 253 323 275 308 264 240 268 261\n",
      " 345 228 311 277 254 274]\n",
      "------------------------------\n",
      "\n",
      "number_of_0  : distinct_value\n",
      "24  : No. of unique Items\n",
      "[26 13 18 24 20 19 17 15 14 16 25 22 21 12 11  9 10  6  8 23  7  5  4  3]\n",
      "------------------------------\n",
      "\n",
      "loan_to_asset_ratio  : distinct_value\n",
      "208149  : No. of unique Items\n",
      "[0.86606164 0.71922197 0.86828553 ... 0.47020165 0.46746991 0.6529752 ]\n",
      "------------------------------\n",
      "\n",
      "no_of_accts  : distinct_value\n",
      "108  : No. of unique Items\n",
      "[  0   1   3   2   7  10   5   6  13   9   4  11  36   8  17  12  14  16\n",
      "  24  30  21  15  34  25  56  20  49  19  45  18  23  22  31  46  26  40\n",
      "  37  27  55  32  29  38  35  28  48  58  41  90  60  93  50  43  39  33\n",
      "  44  66  53  52 120  47  42  62  82  94  51 108  57  67  78  54  68  65\n",
      "  59 148 271  70  72  74  63 147  64  71  87  84  99  61  77 453 132  91\n",
      "  81 113  69 194  76  73 354  97 105 102 136 124  85 131 104 114  86  83]\n",
      "------------------------------\n",
      "\n",
      "pri_inactive_accts  : distinct_value\n",
      "97  : No. of unique Items\n",
      "[  0   3   2   1   5   8   4  10   7   9  25   6  14  11  20  22  16  12\n",
      "  28  21  15  51  40  13  41  26  43  36  17  23  19  24  18  27  35  30\n",
      "  42  57  85  31  29  88  34  33  32  38  48  39  50  44  64  47 116  65\n",
      "  58  52  53  45  98  63  37  62  61 147  54 249  67  70  56  72  74  49\n",
      "  59  55 451  89 129  78  80  73  46  76 146  60  69 344  66  82  86  71\n",
      " 115 120 107  91  77  75  87]\n",
      "------------------------------\n",
      "\n",
      "sec_inactive_accts  : distinct_value\n",
      "29  : No. of unique Items\n",
      "[ 0  2  1  9  3  7  4  6  8 13  5 19 22 20 14 25 10 12 17 15 37 28 26 11\n",
      " 18 16 34 33 42]\n",
      "------------------------------\n",
      "\n",
      "tot_inactive_accts  : distinct_value\n",
      "98  : No. of unique Items\n",
      "[  0   3   2   1   5   8   4  10   7   9  25   6  14  11  20  22  16  12\n",
      "  28  15  21  51  40  13  41  26  43  36  17  23  24  19  18  27  35  30\n",
      "  42  57  85  31  29  88  34  33  32  38  48  39  50  44  64  49 116  65\n",
      "  58  52  53  45  98  63  37  62  61  47 147  54 249  67  70  56  72  74\n",
      "  59  55 451  89 129  78  80  73  46  76 146  60  69 344  66  86  71 115\n",
      " 120 107  91  82  77  68  75  87]\n",
      "------------------------------\n",
      "\n",
      "tot_overdue_accts  : distinct_value\n",
      "22  : No. of unique Items\n",
      "[ 0  1  3  2 14  4  5 10  7  8  6  9 13 18 11 12 17 23 19 15 16 25]\n",
      "------------------------------\n",
      "\n",
      "tot_current_balance  : distinct_value\n",
      "72130  : No. of unique Items\n",
      "[     0  27600  72879 ...  13064 201422 390443]\n",
      "------------------------------\n",
      "\n",
      "tot_sanctioned_amount  : distinct_value\n",
      "45367  : No. of unique Items\n",
      "[     0  50200  74500 ...  85629 276624 416133]\n",
      "------------------------------\n",
      "\n",
      "tot_disbursed_amount  : distinct_value\n",
      "48958  : No. of unique Items\n",
      "[     0  50200  74500 ...  80226 237977 416133]\n",
      "------------------------------\n",
      "\n",
      "tot_installment  : distinct_value\n",
      "28540  : No. of unique Items\n",
      "[    0  1991    31 ... 22090 79611 23356]\n",
      "------------------------------\n",
      "\n",
      "bal_disburse_ratio  : distinct_value\n",
      "5636  : No. of unique Items\n",
      "[1.00000e+00 1.82000e+00 1.02000e+00 ... 1.09490e+04 5.69300e+01\n",
      " 5.96157e+03]\n",
      "------------------------------\n",
      "\n",
      "pri_tenure  : distinct_value\n",
      "18361  : No. of unique Items\n",
      "[     0     25  74500 ...  96750 137115 237977]\n",
      "------------------------------\n",
      "\n",
      "sec_tenure  : distinct_value\n",
      "1788  : No. of unique Items\n",
      "[      0     180     361 ...  805622 3953133   49246]\n",
      "------------------------------\n",
      "\n",
      "credit_risk_label  : distinct_value\n",
      "6  : No. of unique Items\n",
      "[-1  2  0  4  3  1]\n",
      "------------------------------\n",
      "\n",
      "employment_label  : distinct_value\n",
      "3  : No. of unique Items\n",
      "[ 1  0 -1]\n",
      "------------------------------\n",
      "\n",
      "age  : distinct_value\n",
      "33  : No. of unique Items\n",
      "[36 35 26 42 30 32 31 28 34 41 46 47 44 37 40 48 51 24 43 27 29 38 49 25\n",
      " 50 23 22 21 45 39 33 20 19]\n",
      "------------------------------\n",
      "\n",
      "new_pri_installment  : distinct_value\n",
      "28066  : No. of unique Items\n",
      "[    0  1991    31 ... 22090 79611 23356]\n",
      "------------------------------\n",
      "\n"
     ]
    }
   ],
   "source": [
    "for i in features:\n",
    "    print(i,\" : distinct_value\")\n",
    "    print(train_data[i].nunique(),\" : No. of unique Items\")\n",
    "    print(train_data[i].unique())\n",
    "    print(\"-\"*30)\n",
    "    print(\"\")"
   ]
  },
  {
   "cell_type": "code",
   "execution_count": 17,
   "metadata": {},
   "outputs": [],
   "source": [
    "from sklearn.preprocessing import  RobustScaler\n",
    "rob_scaler = RobustScaler()\n",
    "scaled_training = train_data.copy()\n",
    "scaled_testing = test_data.copy()\n",
    "scaled_training[features] = rob_scaler.fit_transform(scaled_training[features])\n",
    "scaled_testing[features] = rob_scaler.fit_transform(scaled_testing[features])\n",
    "X = scaled_training[features]\n",
    "y = scaled_training.loan_default"
   ]
  },
  {
   "cell_type": "code",
   "execution_count": 18,
   "metadata": {},
   "outputs": [],
   "source": [
    "from sklearn.model_selection import train_test_split\n",
    "X_train, X_test, y_train, y_test = train_test_split(X, y, test_size = 0.2, random_state = 0)"
   ]
  },
  {
   "cell_type": "code",
   "execution_count": 19,
   "metadata": {},
   "outputs": [
    {
     "name": "stderr",
     "output_type": "stream",
     "text": [
      "c:\\python\\lib\\site-packages\\sklearn\\linear_model\\_logistic.py:938: ConvergenceWarning: lbfgs failed to converge (status=1):\n",
      "STOP: TOTAL NO. of ITERATIONS REACHED LIMIT.\n",
      "\n",
      "Increase the number of iterations (max_iter) or scale the data as shown in:\n",
      "    https://scikit-learn.org/stable/modules/preprocessing.html\n",
      "Please also refer to the documentation for alternative solver options:\n",
      "    https://scikit-learn.org/stable/modules/linear_model.html#logistic-regression\n",
      "  n_iter_i = _check_optimize_result(\n"
     ]
    },
    {
     "data": {
      "text/plain": [
       "LogisticRegression(C=1.0, class_weight=None, dual=False, fit_intercept=True,\n",
       "                   intercept_scaling=1, l1_ratio=None, max_iter=100,\n",
       "                   multi_class='auto', n_jobs=None, penalty='l2',\n",
       "                   random_state=0, solver='lbfgs', tol=0.0001, verbose=0,\n",
       "                   warm_start=False)"
      ]
     },
     "execution_count": 19,
     "metadata": {},
     "output_type": "execute_result"
    }
   ],
   "source": [
    "from sklearn.linear_model import LogisticRegression\n",
    "classifier = LogisticRegression(random_state =0)\n",
    "classifier.fit(X_train,y_train)"
   ]
  },
  {
   "cell_type": "code",
   "execution_count": 20,
   "metadata": {},
   "outputs": [
    {
     "name": "stdout",
     "output_type": "stream",
     "text": [
      "0.7846925864768073\n",
      "              precision    recall  f1-score   support\n",
      "\n",
      "           0       0.79      1.00      0.88     36614\n",
      "           1       0.24      0.00      0.00     10017\n",
      "\n",
      "    accuracy                           0.78     46631\n",
      "   macro avg       0.51      0.50      0.44     46631\n",
      "weighted avg       0.67      0.78      0.69     46631\n",
      "\n"
     ]
    },
    {
     "data": {
      "text/plain": [
       "array([[36580,    34],\n",
       "       [10006,    11]], dtype=int64)"
      ]
     },
     "execution_count": 20,
     "metadata": {},
     "output_type": "execute_result"
    }
   ],
   "source": [
    "y_pred = classifier.predict(X_test)\n",
    "score_lr=classifier.score(X_test,y_test)\n",
    "print(score_lr)\n",
    "from sklearn.metrics import classification_report\n",
    "print(classification_report(y_test,y_pred))\n",
    "from sklearn.metrics import confusion_matrix\n",
    "confusion_matrix(y_test,y_pred)"
   ]
  },
  {
   "cell_type": "code",
   "execution_count": 21,
   "metadata": {},
   "outputs": [
    {
     "name": "stdout",
     "output_type": "stream",
     "text": [
      "fpr=== [0.00000000e+00 9.28606544e-04 1.00000000e+00]\n",
      "tpr=== [0.         0.00109813 1.        ]\n",
      "thersholds=== [2 1 0]\n",
      "0.50008476331483\n"
     ]
    },
    {
     "data": {
      "image/png": "[encoded data removed]",
      "text/plain": [
       "<Figure size 432x288 with 1 Axes>"
      ]
     },
     "metadata": {
      "needs_background": "light"
     },
     "output_type": "display_data"
    }
   ],
   "source": [
    "#Receiver operating characteristic (Roc)\n",
    "from sklearn.metrics import roc_curve\n",
    "fpr,tpr,thersholds=roc_curve(y_test,y_pred)\n",
    "print(\"fpr===\",fpr)\n",
    "print(\"tpr===\",tpr)\n",
    "print(\"thersholds===\",thersholds)\n",
    "from sklearn.metrics import roc_auc_score\n",
    "roc_auc=roc_auc_score(y_test,y_pred)\n",
    "print(roc_auc)\n",
    "plt.plot(fpr,tpr,linewidth=3)\n",
    "plt.plot([0,1],[0,1],color='red',linestyle='--')\n",
    "plt.xlabel(\"False_postive_rate\")\n",
    "plt.ylabel(\"True_postive_rate\")\n",
    "plt.show()"
   ]
  },
  {
   "cell_type": "code",
   "execution_count": 22,
   "metadata": {},
   "outputs": [
    {
     "name": "stdout",
     "output_type": "stream",
     "text": [
      "[[35835   779]\n",
      " [  753  9264]]\n",
      "0.9671463189723575\n"
     ]
    }
   ],
   "source": [
    "from sklearn.tree import DecisionTreeClassifier\n",
    "from sklearn.metrics import accuracy_score\n",
    "classifier_dt = DecisionTreeClassifier(random_state = 0)\n",
    "y_dt=classifier_dt.fit(X_train, y_train)\n",
    "y_pred_dt = y_dt.predict(X_test)\n",
    "cm_dt = confusion_matrix(y_test, y_pred_dt)\n",
    "print(cm_dt)\n",
    "score_dt=accuracy_score(y_test, y_pred_dt)\n",
    "print(score_dt)"
   ]
  },
  {
   "cell_type": "code",
   "execution_count": 23,
   "metadata": {},
   "outputs": [
    {
     "name": "stdout",
     "output_type": "stream",
     "text": [
      "[[36127   487]\n",
      " [ 2614  7403]]\n",
      "0.933499174368982\n"
     ]
    }
   ],
   "source": [
    "#for random forest\n",
    "from sklearn.ensemble import RandomForestClassifier\n",
    "random_forest = RandomForestClassifier()\n",
    "random_forest.fit(X_train,y_train)\n",
    "y_pred_random = random_forest.predict(X_test)\n",
    "cm_random = confusion_matrix(y_test, y_pred_random)\n",
    "print(cm_random)\n",
    "score_random=accuracy_score(y_test, y_pred_random)\n",
    "print(score_random)"
   ]
  },
  {
   "cell_type": "code",
   "execution_count": 24,
   "metadata": {},
   "outputs": [
    {
     "name": "stdout",
     "output_type": "stream",
     "text": [
      "0         655269\n",
      "1         723482\n",
      "2         758529\n",
      "3         763449\n",
      "4         708663\n",
      "           ...  \n",
      "112387    755547\n",
      "112388    716994\n",
      "112389    709352\n",
      "112390    699795\n",
      "112391    755244\n",
      "Name: UniqueID, Length: 112392, dtype: int64\n",
      "[1 1 0 ... 0 1 0]\n",
      "Saved file: loan_default_rdf2.csv\n"
     ]
    }
   ],
   "source": [
    "unique_id = scaled_testing.UniqueID\n",
    "print(unique_id)\n",
    "y_pred_rf = random_forest.predict(scaled_testing[features])\n",
    "print(y_pred_rf)\n",
    "submission1 = pd.DataFrame({'UniqueID': unique_id,'loan_default': y_pred_rf})\n",
    "submission1.head()\n",
    "filename = 'loan_default_rdf2.csv'\n",
    "\n",
    "submission1.to_csv(filename,index=False)\n",
    "\n",
    "print('Saved file: ' + filename)"
   ]
  },
  {
   "cell_type": "code",
   "execution_count": 27,
   "metadata": {},
   "outputs": [],
   "source": [
    "#Xgboost algorithm\n",
    "## Hyperparameter optimization using RandomizedSearchCV\n",
    "from sklearn.model_selection import RandomizedSearchCV\n",
    "import xgboost\n",
    "classifier_xg=xgboost.XGBClassifier()\n",
    "params={\n",
    " \"learning_rate\"    : [0.05, 0.10, 0.15, 0.20, 0.25, 0.30 ] ,\n",
    " \"max_depth\"        : [ 3, 4, 5, 6, 8, 10, 12, 15],\n",
    " \"min_child_weight\" : [ 1, 3, 5, 7 ],\n",
    " \"gamma\"            : [ 0.0, 0.1, 0.2 , 0.3, 0.4 ],\n",
    " \"colsample_bytree\" : [ 0.3, 0.4, 0.5 , 0.7 ]\n",
    "}\n",
    "random_search=RandomizedSearchCV(classifier_xg,param_distributions=params,n_iter=5,scoring='roc_auc',n_jobs=-1,cv=5,verbose=3)\n",
    "#classifier_xg.fit(X,y)"
   ]
  },
  {
   "cell_type": "code",
   "execution_count": 28,
   "metadata": {},
   "outputs": [
    {
     "name": "stdout",
     "output_type": "stream",
     "text": [
      "Fitting 5 folds for each of 5 candidates, totalling 25 fits\n"
     ]
    },
    {
     "name": "stderr",
     "output_type": "stream",
     "text": [
      "[Parallel(n_jobs=-1)]: Using backend LokyBackend with 4 concurrent workers.\n",
      "[Parallel(n_jobs=-1)]: Done  25 out of  25 | elapsed:  9.6min finished\n"
     ]
    },
    {
     "data": {
      "text/plain": [
       "RandomizedSearchCV(cv=5, error_score=nan,\n",
       "                   estimator=XGBClassifier(base_score=None, booster=None,\n",
       "                                           colsample_bylevel=None,\n",
       "                                           colsample_bynode=None,\n",
       "                                           colsample_bytree=None, gamma=None,\n",
       "                                           gpu_id=None, importance_type='gain',\n",
       "                                           interaction_constraints=None,\n",
       "                                           learning_rate=None,\n",
       "                                           max_delta_step=None, max_depth=None,\n",
       "                                           min_child_weight=None, missing=nan,\n",
       "                                           monotone_constraints=None,\n",
       "                                           n...\n",
       "                                           verbosity=None),\n",
       "                   iid='deprecated', n_iter=5, n_jobs=-1,\n",
       "                   param_distributions={'colsample_bytree': [0.3, 0.4, 0.5,\n",
       "                                                             0.7],\n",
       "                                        'gamma': [0.0, 0.1, 0.2, 0.3, 0.4],\n",
       "                                        'learning_rate': [0.05, 0.1, 0.15, 0.2,\n",
       "                                                          0.25, 0.3],\n",
       "                                        'max_depth': [3, 4, 5, 6, 8, 10, 12,\n",
       "                                                      15],\n",
       "                                        'min_child_weight': [1, 3, 5, 7]},\n",
       "                   pre_dispatch='2*n_jobs', random_state=None, refit=True,\n",
       "                   return_train_score=False, scoring='roc_auc', verbose=3)"
      ]
     },
     "execution_count": 28,
     "metadata": {},
     "output_type": "execute_result"
    }
   ],
   "source": [
    "random_search.fit(X,y)"
   ]
  },
  {
   "cell_type": "code",
   "execution_count": 29,
   "metadata": {},
   "outputs": [
    {
     "data": {
      "text/plain": [
       "XGBClassifier(base_score=0.5, booster='gbtree', colsample_bylevel=1,\n",
       "              colsample_bynode=1, colsample_bytree=0.5, gamma=0.2, gpu_id=-1,\n",
       "              importance_type='gain', interaction_constraints='',\n",
       "              learning_rate=0.3, max_delta_step=0, max_depth=10,\n",
       "              min_child_weight=3, missing=nan, monotone_constraints='()',\n",
       "              n_estimators=100, n_jobs=0, num_parallel_tree=1,\n",
       "              objective='binary:logistic', random_state=0, reg_alpha=0,\n",
       "              reg_lambda=1, scale_pos_weight=1, subsample=1,\n",
       "              tree_method='exact', validate_parameters=1, verbosity=None)"
      ]
     },
     "execution_count": 29,
     "metadata": {},
     "output_type": "execute_result"
    }
   ],
   "source": [
    "random_search.best_estimator_"
   ]
  },
  {
   "cell_type": "code",
   "execution_count": null,
   "metadata": {},
   "outputs": [],
   "source": [
    "'''XGBClassifier(base_score=0.5, booster='gbtree', colsample_bylevel=1,\n",
    "              colsample_bynode=1, colsample_bytree=0.5, gamma=0.3, gpu_id=-1,\n",
    "              importance_type='gain', interaction_constraints='',\n",
    "              learning_rate=0.1, max_delta_step=0, max_depth=10,\n",
    "              min_child_weight=3, missing=nan, monotone_constraints='()',\n",
    "              n_estimators=100, n_jobs=0, num_parallel_tree=1,\n",
    "              objective='binary:logistic', random_state=0, reg_alpha=0,\n",
    "              reg_lambda=1, scale_pos_weight=1, subsample=1,\n",
    "              tree_method='exact', validate_parameters=1, verbosity=None)'''"
   ]
  },
  {
   "cell_type": "code",
   "execution_count": 30,
   "metadata": {},
   "outputs": [
    {
     "data": {
      "text/plain": [
       "{'min_child_weight': 3,\n",
       " 'max_depth': 10,\n",
       " 'learning_rate': 0.3,\n",
       " 'gamma': 0.2,\n",
       " 'colsample_bytree': 0.5}"
      ]
     },
     "execution_count": 30,
     "metadata": {},
     "output_type": "execute_result"
    }
   ],
   "source": [
    "random_search.best_params_"
   ]
  },
  {
   "cell_type": "code",
   "execution_count": 31,
   "metadata": {},
   "outputs": [],
   "source": [
    "classifier_xg=xgboost.XGBClassifier(base_score=0.5, booster='gbtree', colsample_bylevel=1,\n",
    "              colsample_bynode=1, colsample_bytree=0.5, gamma=0.3, gpu_id=-1,\n",
    "              importance_type='gain', interaction_constraints='',\n",
    "              learning_rate=0.1, max_delta_step=0, max_depth=10,\n",
    "              min_child_weight=3, missing=None, monotone_constraints='()',\n",
    "              n_estimators=100, n_jobs=0, num_parallel_tree=1,\n",
    "              objective='binary:logistic', random_state=0, reg_alpha=0,\n",
    "              reg_lambda=1, scale_pos_weight=1, subsample=1,\n",
    "              tree_method='exact', validate_parameters=1, verbosity=None)"
   ]
  },
  {
   "cell_type": "code",
   "execution_count": 32,
   "metadata": {},
   "outputs": [
    {
     "data": {
      "text/plain": [
       "array([0.97774061, 0.98237262, 0.97666838, 0.97791216, 0.97349346,\n",
       "       0.97971263, 0.9798413 , 0.98340124, 0.98443062, 0.98327257])"
      ]
     },
     "execution_count": 32,
     "metadata": {},
     "output_type": "execute_result"
    }
   ],
   "source": [
    "from sklearn.model_selection import cross_val_score\n",
    "score=cross_val_score(classifier_xg,X,y,cv=10)\n",
    "score"
   ]
  },
  {
   "cell_type": "code",
   "execution_count": 33,
   "metadata": {},
   "outputs": [
    {
     "name": "stdout",
     "output_type": "stream",
     "text": [
      "0.9798845606100256\n"
     ]
    }
   ],
   "source": [
    "accuracy=score.mean()\n",
    "print(accuracy)"
   ]
  },
  {
   "cell_type": "code",
   "execution_count": 39,
   "metadata": {},
   "outputs": [
    {
     "name": "stdout",
     "output_type": "stream",
     "text": [
      "[[36059   555]\n",
      " [  378  9639]]\n"
     ]
    }
   ],
   "source": [
    "#predict the test data set\n",
    "#prediction=classifier_xg.predict(scaled_testing[features])\n",
    "#prediction\n",
    "X_train, X_test, y_train, y_test = train_test_split(X, y, test_size = 0.2, random_state = 0)\n",
    "classifier_xg.fit(X_train,y_train)\n",
    "y_pred_xg_2= classifier_xg.predict(X_test)\n",
    "cm_xg = confusion_matrix(y_test, y_pred_xg_2)\n",
    "print(cm_xg)"
   ]
  },
  {
   "cell_type": "code",
   "execution_count": null,
   "metadata": {},
   "outputs": [],
   "source": []
  },
  {
   "cell_type": "code",
   "execution_count": 35,
   "metadata": {},
   "outputs": [
    {
     "name": "stdout",
     "output_type": "stream",
     "text": [
      "              precision    recall  f1-score   support\n",
      "\n",
      "           0       0.99      0.98      0.99     36614\n",
      "           1       0.95      0.96      0.95     10017\n",
      "\n",
      "    accuracy                           0.98     46631\n",
      "   macro avg       0.97      0.97      0.97     46631\n",
      "weighted avg       0.98      0.98      0.98     46631\n",
      "\n"
     ]
    }
   ],
   "source": [
    "print(classification_report(y_test,y_pred_xg))"
   ]
  },
  {
   "cell_type": "code",
   "execution_count": 36,
   "metadata": {},
   "outputs": [
    {
     "name": "stdout",
     "output_type": "stream",
     "text": [
      "0         655269\n",
      "1         723482\n",
      "2         758529\n",
      "3         763449\n",
      "4         708663\n",
      "           ...  \n",
      "112387    755547\n",
      "112388    716994\n",
      "112389    709352\n",
      "112390    699795\n",
      "112391    755244\n",
      "Name: UniqueID, Length: 112392, dtype: int64\n",
      "[1 1 0 ... 1 1 0]\n",
      "   UniqueID  loan_default\n",
      "0    655269             1\n",
      "1    723482             1\n",
      "2    758529             0\n",
      "3    763449             1\n",
      "4    708663             1\n",
      "Saved file: loan_default_xg.csv\n"
     ]
    }
   ],
   "source": [
    "unique_id = scaled_testing.UniqueID\n",
    "print(unique_id)\n",
    "y_pred_xg = classifier_xg.predict(scaled_testing[features])\n",
    "print(y_pred_xg)\n",
    "submission_xg = pd.DataFrame({'UniqueID': unique_id,'loan_default': y_pred_xg})\n",
    "print(submission_xg.head())\n",
    "filename_xg= 'loan_default_xg.csv'\n",
    "submission_xg.to_csv(filename,index=False)\n",
    "print('Saved file: ' + filename_xg)"
   ]
  },
  {
   "cell_type": "code",
   "execution_count": 40,
   "metadata": {},
   "outputs": [
    {
     "name": "stdout",
     "output_type": "stream",
     "text": [
      "fpr=== [0.         0.01515814 1.        ]\n",
      "tpr=== [0.         0.96226415 1.        ]\n",
      "thersholds=== [2 1 0]\n",
      "0.9735530073556768\n"
     ]
    },
    {
     "data": {
      "image/png": "[encoded data removed]",
      "text/plain": [
       "<Figure size 432x288 with 1 Axes>"
      ]
     },
     "metadata": {
      "needs_background": "light"
     },
     "output_type": "display_data"
    }
   ],
   "source": [
    "#Receiver operating characteristic (Roc)\n",
    "from sklearn.metrics import roc_curve\n",
    "fpr,tpr,thersholds=roc_curve(y_test,y_pred_xg_2)\n",
    "print(\"fpr===\",fpr)\n",
    "print(\"tpr===\",tpr)\n",
    "print(\"thersholds===\",thersholds)\n",
    "from sklearn.metrics import roc_auc_score\n",
    "roc_auc=roc_auc_score(y_test,y_pred_xg_2)\n",
    "print(roc_auc)\n",
    "plt.plot(fpr,tpr,linewidth=3)\n",
    "plt.plot([0,1],[0,1],color='red',linestyle='--')\n",
    "plt.xlabel(\"False_postive_rate\")\n",
    "plt.ylabel(\"True_postive_rate\")\n",
    "plt.show()"
   ]
  },
  {
   "cell_type": "code",
   "execution_count": 49,
   "metadata": {},
   "outputs": [
    {
     "name": "stdout",
     "output_type": "stream",
     "text": [
      "(46631, 40)\n"
     ]
    }
   ],
   "source": [
    "print(X_test.shape)"
   ]
  },
  {
   "cell_type": "code",
   "execution_count": 61,
   "metadata": {},
   "outputs": [
    {
     "name": "stdout",
     "output_type": "stream",
     "text": [
      "763449\n",
      "   disbursed_amount  asset_cost  Aadhar_flag  PAN_flag  PERFORM_CNS.SCORE  \\\n",
      "0             46905       63896            1         0                 14   \n",
      "\n",
      "   PRI.ACTIVE.ACCTS  PRI.OVERDUE.ACCTS  PRI.CURRENT.BALANCE  \\\n",
      "0                 1                  1               132480   \n",
      "\n",
      "   PRI.SANCTIONED.AMOUNT  PRI.DISBURSED.AMOUNT  ...  tot_sanctioned_amount  \\\n",
      "0                 255000                255000  ...                 255000   \n",
      "\n",
      "   tot_disbursed_amount  tot_installment  bal_disburse_ratio  pri_tenure  \\\n",
      "0                255000                0                1.92      255000   \n",
      "\n",
      "   sec_tenure  credit_risk_label  employment_label  age  new_pri_installment  \n",
      "0           0                 -1                 0   47                    0  \n",
      "\n",
      "[1 rows x 40 columns]\n",
      "[[46905.0, 63896.0, 1.0, 0.0, 14.0, 1.0, 1.0, 132480.0, 255000.0, 255000.0, 0.0, 0.0, 0.0, 0.0, 0.0, 0.0, 0.0, 0.0, 0.0, 22.0, 29.0, 29.0, 16.0, 0.7340835107048954, 1.0, 0.0, 0.0, 0.0, 1.0, 132480.0, 255000.0, 255000.0, 0.0, 1.92, 255000.0, 0.0, -1.0, 0.0, 47.0, 0.0]]\n",
      "[0]\n",
      "0\n"
     ]
    }
   ],
   "source": [
    "# %load  C:\\Python\\codes\\WTS\\tkinter2\\test_sql_loan_project.py\n",
    "from tkinter import *\n",
    "from tkinter import messagebox\n",
    "from tkcalendar import *\n",
    "import sqlite3\n",
    "import pandas as pd\n",
    "import re\n",
    "def create_table():\n",
    "    global create_database,make_cursor\n",
    "    create_database=sqlite3.connect(\"project_test.db\")\n",
    "    make_cursor=create_database.cursor()\n",
    "    get_csv=pd.read_csv(\"F:/project_test.csv\")\n",
    "    print(get_csv.head())\n",
    "    make_cursor.execute(\"DROP TABLE IF EXISTS test_table\")\n",
    "    make_cursor.execute(\"\"\"CREATE TABLE IF NOT EXISTS test_table(UniqueID INTEGER,\n",
    "                    disbursed_amount INTEGER,\n",
    "                    asset_cost INTEGER,\n",
    "                    ltv FLOAT,\n",
    "                    branch_id INTEGER,         \n",
    "                    supplier_id INTEGER,\n",
    "                    manufacturer_id INTEGER,\n",
    "                    Current_pincode_ID INTEGER,\n",
    "                    Date_of_Birth TEXT,\n",
    "                    Employment_Type TEXT,\n",
    "                    DisbursalDate TEXT,\n",
    "                    State_ID INTEGER,\n",
    "                    Employee_code_ID INTEGER,\n",
    "                    MobileNo_Avl_Flag INTEGER,\n",
    "                    Aadhar_flag INTEGER,\n",
    "                    PAN_flaG INTEGER,\n",
    "                    VoterID_flag INTEGER,\n",
    "                    Driving_flag INTEGER,\n",
    "                    Passport_flag INTEGER,\n",
    "                    PERFORM_CNS_SCORE INTEGER,\n",
    "                    PERFORM_CNS_SCORE_DESCRIPTION TEXT,\n",
    "                    PRI_NO_OF_ACCTS INTEGER,\n",
    "                    PRI_ACTIVE_ACCTS INTEGER,\n",
    "                    PRI_OVERDUE_ACCTS INTEGER,\n",
    "                    PRI_CURRENT_BALANCE INTEGER,\n",
    "                    PRI_SANCTIONED_AMOUNT INTEGER,\n",
    "                    PRI_DISBURSED_AMOUNT INTEGER,\n",
    "                    SEC_NO_OF_ACCTS INTEGER,\n",
    "                    SEC_ACTIVE_ACCTS INTEGER,\n",
    "                    SEC_OVERDUE_ACCTS INTEGER,\n",
    "                    SEC_CURRENT_BALANCE INTEGER,\n",
    "                    SEC_SANCTIONED_AMOUNT INTEGER,\n",
    "                    SEC_DISBURSED_AMOUNT INTEGER,\n",
    "                    PRIMARY_INSTAL_AMT INTEGER,\n",
    "                    SEC_INSTAL_AMT INTEGER,\n",
    "                    NEW_ACCTS_IN_LAST_SIX_MONTHS INTEGER,\n",
    "                    DELINQUENT_ACCTS_IN_LAST_SIX_MONTHS INTEGER,\n",
    "                    AVERAGE_ACCT_AGE TEXT,\n",
    "                    CREDIT_HISTORY_LENGTH TEXT,\n",
    "                    NO_OF_INQUIRIES INTEGER)\"\"\")\n",
    "    for i in range(0,len(get_csv)):\n",
    "        unique_id_d=int(get_csv.iloc[i,0])\n",
    "        #print(unique_id)\n",
    "        disbursed_amount_d=int(get_csv.iloc[i,1])\n",
    "        #print(l_d_prediction)\n",
    "        asset_cost_d=int(get_csv.iloc[i,2])\n",
    "        ltv_d=get_csv.iloc[i,3]\n",
    "        branch_id_d = int(get_csv.iloc[i,4])\n",
    "        supplier_id_d =int(get_csv.iloc[i,5])\n",
    "        manufacturer_id_d =int(get_csv.iloc[i,6])\n",
    "        Current_pincode_ID_d = int(get_csv.iloc[i,7])\n",
    "        Date_of_Birth_d =get_csv.iloc[i,8]\n",
    "        Employment_Type_d =get_csv.iloc[i,9]\n",
    "        DisbursalDate_d =get_csv.iloc[i,10] \n",
    "        State_ID_d = int(get_csv.iloc[i,11])\n",
    "        Employee_code_ID_d =int(get_csv.iloc[i,12]) \n",
    "        MobileNo_Avl_Flag_d = int(get_csv.iloc[i,13])\n",
    "        Aadhar_flag_d = int(get_csv.iloc[i,14])\n",
    "        PAN_flag_d = int(get_csv.iloc[i,15])\n",
    "        VoterID_flag_d =int(get_csv.iloc[i,16])\n",
    "        Driving_flag_d =int(get_csv.iloc[i,17])\n",
    "        Passport_flag_d =int(get_csv.iloc[i,18])\n",
    "        PERFORM_CNS_SCORE_d =int(get_csv.iloc[i,19])\n",
    "        PERFORM_CNS_SCORE_DESCRIPTION_d = get_csv.iloc[i,20]\n",
    "        PRI_NO_OF_ACCTS_d =int(get_csv.iloc[i,21])\n",
    "        PRI_ACTIVE_ACCTS_d =int(get_csv.iloc[i,22])\n",
    "        PRI_OVERDUE_ACCTS_d =int(get_csv.iloc[i,23])\n",
    "        PRI_CURRENT_BALANCE_d =int(get_csv.iloc[i,24])\n",
    "        PRI_SANCTIONED_AMOUNT_d =int(get_csv.iloc[i,25])\n",
    "        PRI_DISBURSED_AMOUNT_d =int(get_csv.iloc[i,26])\n",
    "        SEC_NO_OF_ACCTS_d =int(get_csv.iloc[i,27])\n",
    "        SEC_ACTIVE_ACCTS_d=int(get_csv.iloc[i,28])\n",
    "        SEC_OVERDUE_ACCTS_d =int(get_csv.iloc[i,29])\n",
    "        SEC_CURRENT_BALANCE_d =int(get_csv.iloc[i,30])\n",
    "        SEC_SANCTIONED_AMOUNT_d =int(get_csv.iloc[i,31])\n",
    "        SEC_DISBURSED_AMOUNT_d =int(get_csv.iloc[i,32])\n",
    "        PRIMARY_INSTAL_AMT_d =int(get_csv.iloc[i,33])\n",
    "        SEC_INSTAL_AMT_d =int(get_csv.iloc[i,34])\n",
    "        NEW_ACCTS_IN_LAST_SIX_MONTHS_d =int(get_csv.iloc[i,35])\n",
    "        DELINQUENT_ACCTS_IN_LAST_SIX_MONTHS_d =int(get_csv.iloc[i,36])\n",
    "        AVERAGE_ACCT_AGE_d =get_csv.iloc[i,37]\n",
    "        CREDIT_HISTORY_LENGTH_d =get_csv.iloc[i,38]\n",
    "        NO_OF_INQUIRIES_d =int(get_csv.iloc[i,39])\n",
    "        \n",
    "        get_query=make_cursor.execute(f\"\"\"INSERT INTO test_table\n",
    "                                (UniqueID,disbursed_amount, asset_cost,ltv,branch_id,\n",
    "                                supplier_id,manufacturer_id,Current_pincode_ID,Date_of_Birth,\n",
    "                                Employment_Type,DisbursalDate,State_ID,Employee_code_ID,\n",
    "                                MobileNo_Avl_Flag,Aadhar_flag,PAN_flag,VoterID_flag,\n",
    "                                Driving_flag,Passport_flag,PERFORM_CNS_SCORE,PERFORM_CNS_SCORE_DESCRIPTION,\n",
    "                                PRI_NO_OF_ACCTS,PRI_ACTIVE_ACCTS,PRI_OVERDUE_ACCTS,PRI_CURRENT_BALANCE,\n",
    "                                PRI_SANCTIONED_AMOUNT,PRI_DISBURSED_AMOUNT,SEC_NO_OF_ACCTS,SEC_ACTIVE_ACCTS,\n",
    "                                SEC_OVERDUE_ACCTS,SEC_CURRENT_BALANCE,SEC_SANCTIONED_AMOUNT,SEC_DISBURSED_AMOUNT,\n",
    "                                PRIMARY_INSTAL_AMT,SEC_INSTAL_AMT,NEW_ACCTS_IN_LAST_SIX_MONTHS,\n",
    "                                DELINQUENT_ACCTS_IN_LAST_SIX_MONTHS,AVERAGE_ACCT_AGE,\n",
    "                                CREDIT_HISTORY_LENGTH,NO_OF_INQUIRIES)\n",
    "                                VALUES(?,?,?,?,?,?,?,?,?,?,?,?,?,?,?,?,?,?,?,?,?,?,?,?,?,?,?,?,?,?,\n",
    "                                ?,?,?,?,?,?,?,?,?,?)\"\"\",(unique_id_d,disbursed_amount_d,asset_cost_d,\n",
    "                                ltv_d,branch_id_d,supplier_id_d,manufacturer_id_d,Current_pincode_ID_d,\n",
    "                                Date_of_Birth_d,Employment_Type_d,DisbursalDate_d,State_ID_d,Employee_code_ID_d,\n",
    "                                MobileNo_Avl_Flag_d,Aadhar_flag_d,PAN_flag_d,VoterID_flag_d,Driving_flag_d,\n",
    "                                Passport_flag_d,PERFORM_CNS_SCORE_d,PERFORM_CNS_SCORE_DESCRIPTION_d,\n",
    "                                PRI_NO_OF_ACCTS_d,PRI_ACTIVE_ACCTS_d,PRI_OVERDUE_ACCTS_d,PRI_CURRENT_BALANCE_d,\n",
    "                                PRI_SANCTIONED_AMOUNT_d,PRI_DISBURSED_AMOUNT_d,SEC_NO_OF_ACCTS_d,\n",
    "                                SEC_ACTIVE_ACCTS_d,SEC_OVERDUE_ACCTS_d,SEC_CURRENT_BALANCE_d,\n",
    "                                SEC_SANCTIONED_AMOUNT_d,SEC_DISBURSED_AMOUNT_d,PRIMARY_INSTAL_AMT_d,\n",
    "                                SEC_INSTAL_AMT_d,NEW_ACCTS_IN_LAST_SIX_MONTHS_d,DELINQUENT_ACCTS_IN_LAST_SIX_MONTHS_d,\n",
    "                                AVERAGE_ACCT_AGE_d,CREDIT_HISTORY_LENGTH_d,NO_OF_INQUIRIES_d))\n",
    "    create_database.commit()\n",
    "    create_database.close()\n",
    "def clear_input():\n",
    "     unique_id_user.delete(0,'end')\n",
    "\n",
    "\n",
    "        \n",
    "def prediction_output():\n",
    "    global loan_default_label\n",
    "    get_id=int(unique_id_user.get())\n",
    "    print(get_id)\n",
    "    create_database=sqlite3.connect(\"C:\\\\Python\\\\codes\\\\WTS\\\\tkinter2\\\\project_test.db\")\n",
    "    #create_database=sqlite3.connect(\"project_test.db\")\n",
    "    make_cursor=create_database.cursor()\n",
    "    make_cursor.execute(\"SELECT * FROM test_table WHERE UniqueID=?\",[(get_id)])\n",
    "    correct = make_cursor.fetchall()\n",
    "    if correct:\n",
    "        df_test3_f=pd.read_sql(f\"select * from test_table WHERE UniqueID={get_id}\",create_database)\n",
    "        #print(df_test3_f)\n",
    "        #prediction_ml=0\n",
    "        df_test3_f.rename(columns={'PAN_flaG':'PAN_flag','Date_of_Birth':'Date.of.Birth','Employment_Type':'Employment.Type','PERFORM_CNS_SCORE':'PERFORM_CNS.SCORE',\n",
    "                  'PERFORM_CNS_SCORE_DESCRIPTION':'PERFORM_CNS.SCORE.DESCRIPTION','PRI_NO_OF_ACCTS':'PRI.NO.OF.ACCTS',\n",
    "                  'PRI_ACTIVE_ACCTS':'PRI.ACTIVE.ACCTS','PRI_OVERDUE_ACCTS':'PRI.OVERDUE.ACCTS','PRI_CURRENT_BALANCE':'PRI.CURRENT.BALANCE',\n",
    "                  'PRI_SANCTIONED_AMOUNT':'PRI.SANCTIONED.AMOUNT','PRI_DISBURSED_AMOUNT':'PRI.DISBURSED.AMOUNT','SEC_NO_OF_ACCTS':'SEC.NO.OF.ACCTS',\n",
    "                  'SEC_ACTIVE_ACCTS':'SEC.ACTIVE.ACCTS','SEC_OVERDUE_ACCTS':'SEC.OVERDUE.ACCTS','SEC_CURRENT_BALANCE':'SEC.CURRENT.BALANCE',\n",
    "                  'SEC_SANCTIONED_AMOUNT':'SEC.SANCTIONED.AMOUNT','SEC_DISBURSED_AMOUNT':'SEC.DISBURSED.AMOUNT','PRIMARY_INSTAL_AMT':'PRIMARY.INSTAL.AMT',\n",
    "                  'SEC_INSTAL_AMT':'SEC.INSTAL.AMT','NEW_ACCTS_IN_LAST_SIX_MONTHS':'NEW.ACCTS.IN.LAST.SIX.MONTHS',\n",
    "                  'DELINQUENT_ACCTS_IN_LAST_SIX_MONTHS':'DELINQUENT.ACCTS.IN.LAST.SIX.MONTHS','AVERAGE_ACCT_AGE':'AVERAGE.ACCT.AGE',\n",
    "                  'CREDIT_HISTORY_LENGTH':'CREDIT.HISTORY.LENGTH','NO_OF_INQUIRIES':'NO.OF_INQUIRIES'},inplace=True)\n",
    "        pd.set_option('mode.chained_assignment',None)\n",
    "        test_data_f= prepare_data(df_test3_f)\n",
    "        #scaled_testing= test_data_f.copy()\n",
    "        #scaled_testing[features] = rob_scaler.fit_transform(scaled_testing[features])\n",
    "        list_features=test_data_f[features]\n",
    "        print(list_features[:1])\n",
    "        Row_list =[] \n",
    "  \n",
    "        # Iterate over each row \n",
    "        for i in range((list_features[:1].shape[0])): \n",
    "\n",
    "            # Using iloc to access the values of  \n",
    "            # the current row denoted by \"i\" \n",
    "            Row_list.append(list(list_features[:1].iloc[i, :]))\n",
    "            list_feature= list(list_features[:1].iloc[i, :])\n",
    "\n",
    "        # Print the list \n",
    "        #print(list_feature)\n",
    "        print(Row_list) \n",
    "        #list2_features=list(list_features)\n",
    "        #y_pred_rf = random_forest.predict(scaled_testing[features])\n",
    "        y_pred_rf = random_forest.predict(Row_list)\n",
    "        # print(scaled_testing[features].shape)\n",
    "        print(y_pred_rf)\n",
    "        #y_pred_xg = classifier_xg.predict(scaled_testing[features])\n",
    "        #print(y_pred_xg)\n",
    "        \n",
    "        for prediction_ml in y_pred_rf:\n",
    "            print(prediction_ml)\n",
    "        if prediction_ml==1:\n",
    "            loan_default_label = Label(window,text=\"LOAN DEFAULT =  YES\",font=(\"arial\",20,\"bold\"),background='red')\n",
    "            loan_default_label.place(x=160,y=270)\n",
    "            \n",
    "        else:\n",
    "            loan_default_label = Label(window,text=\"LOAN DEFAULT =  NO\",font=(\"arial\",20,\"bold\"),background='Green')\n",
    "            loan_default_label.place(x=160,y=270)\n",
    "            \n",
    "    else:\n",
    "        messagebox.showwarning(\"Warning\",\"Borrower user ID not exists,\\n Enter valid ID\")\n",
    "\n",
    "def clear_prediction():\n",
    "    loan_default_label.destroy()    \n",
    "def id_validate(borrower_id):\n",
    "    #id_regex=re.compile(r'^([\\d]+)$')\n",
    "    #id_regex=re.compile('^(?=.*[!$?@#%^&*])(?=.*[a-z])$')\n",
    "    #if (id_regex.search(borrower_id) != None):\n",
    "    get_id_validate=borrower_id.get()\n",
    "    if get_id_validate.isdigit():\n",
    "        prediction_output()\n",
    "        return True\n",
    "    else:\n",
    "        messagebox.showinfo(\"Information\",\"Don't use Words and special characters \\n in Borrower Unique ID\")\n",
    "        return False \n",
    "    \n",
    "def main_window():\n",
    "    global unique_id_user,window\n",
    "    window=Tk()\n",
    "    window.geometry(\"600x400\")\n",
    "    window.title(\"Main Window\")\n",
    "    window.config(background='light blue')\n",
    "    title_label = Label(window,text=\"Borrower Loan-Default Prediction System\",font=(\"Helvetica\", 20, \"bold italic\"),background='red')\n",
    "    title_label.place(x=60,y=40)\n",
    "    note_label = Label(window,text=\"Note : Enter Borrower ID to predict the Loan going to Default or not\",font=(\"Helvetica\", 13, \"bold italic\"),background='blue')\n",
    "    note_label.place(x=60,y=80)\n",
    "    unique_id_var=StringVar()\n",
    "    unique_id_label = Label(window,text=\"Borrower Unique ID:\",width =20,font=(\"arial\",15,\"bold\"),background='light blue')\n",
    "    unique_id_label.place(x=30,y=140)\n",
    "    unique_id_user = Entry(window,textvariable =unique_id_var,width=30)\n",
    "    unique_id_user.place(x=260,y=143)\n",
    "    #id_validate_call = window.register(id_validate)\n",
    "    #unique_id_user.config(validate=\"key\",validatecommand=(id_validate_call,'%P'))\n",
    "    submit_button = Button(window,text = \"SUBMIT\",command=lambda:id_validate(unique_id_user),bg='orange',width=25,fg='white').place(x=380,y=180)\n",
    "    clear_button = Button(window,text = \"CLEAR\",command=clear_input,bg='yellow',width=25,fg='red').place(x=30,y=180)\n",
    "    clear_prediction_button = Button(window,text = \"CLEAR PREDICTION\",command=clear_prediction,bg='green',width=25,fg='white').place(x=30,y=350)\n",
    "    window.mainloop()\n",
    "main_window()\n",
    "\n"
   ]
  },
  {
   "cell_type": "code",
   "execution_count": null,
   "metadata": {},
   "outputs": [],
   "source": []
  },
  {
   "cell_type": "code",
   "execution_count": null,
   "metadata": {},
   "outputs": [],
   "source": []
  },
  {
   "cell_type": "code",
   "execution_count": null,
   "metadata": {},
   "outputs": [],
   "source": []
  },
  {
   "cell_type": "code",
   "execution_count": null,
   "metadata": {},
   "outputs": [],
   "source": []
  },
  {
   "cell_type": "code",
   "execution_count": null,
   "metadata": {},
   "outputs": [],
   "source": []
  },
  {
   "cell_type": "code",
   "execution_count": null,
   "metadata": {},
   "outputs": [],
   "source": []
  },
  {
   "cell_type": "code",
   "execution_count": null,
   "metadata": {},
   "outputs": [],
   "source": []
  },
  {
   "cell_type": "code",
   "execution_count": null,
   "metadata": {},
   "outputs": [],
   "source": []
  },
  {
   "cell_type": "code",
   "execution_count": null,
   "metadata": {},
   "outputs": [],
   "source": []
  },
  {
   "cell_type": "code",
   "execution_count": null,
   "metadata": {},
   "outputs": [],
   "source": []
  },
  {
   "cell_type": "code",
   "execution_count": null,
   "metadata": {},
   "outputs": [],
   "source": []
  },
  {
   "cell_type": "code",
   "execution_count": null,
   "metadata": {},
   "outputs": [],
   "source": []
  },
  {
   "cell_type": "code",
   "execution_count": null,
   "metadata": {},
   "outputs": [],
   "source": []
  },
  {
   "cell_type": "code",
   "execution_count": null,
   "metadata": {},
   "outputs": [],
   "source": []
  },
  {
   "cell_type": "code",
   "execution_count": null,
   "metadata": {},
   "outputs": [],
   "source": []
  },
  {
   "cell_type": "code",
   "execution_count": null,
   "metadata": {},
   "outputs": [],
   "source": []
  },
  {
   "cell_type": "code",
   "execution_count": null,
   "metadata": {},
   "outputs": [],
   "source": []
  },
  {
   "cell_type": "code",
   "execution_count": null,
   "metadata": {},
   "outputs": [],
   "source": []
  },
  {
   "cell_type": "code",
   "execution_count": null,
   "metadata": {},
   "outputs": [],
   "source": []
  },
  {
   "cell_type": "code",
   "execution_count": null,
   "metadata": {},
   "outputs": [],
   "source": []
  },
  {
   "cell_type": "code",
   "execution_count": null,
   "metadata": {},
   "outputs": [],
   "source": []
  },
  {
   "cell_type": "code",
   "execution_count": null,
   "metadata": {},
   "outputs": [],
   "source": []
  },
  {
   "cell_type": "code",
   "execution_count": null,
   "metadata": {},
   "outputs": [],
   "source": []
  },
  {
   "cell_type": "code",
   "execution_count": null,
   "metadata": {},
   "outputs": [],
   "source": []
  },
  {
   "cell_type": "code",
   "execution_count": null,
   "metadata": {},
   "outputs": [],
   "source": []
  },
  {
   "cell_type": "code",
   "execution_count": null,
   "metadata": {},
   "outputs": [],
   "source": []
  },
  {
   "cell_type": "code",
   "execution_count": null,
   "metadata": {},
   "outputs": [],
   "source": []
  },
  {
   "cell_type": "code",
   "execution_count": null,
   "metadata": {},
   "outputs": [],
   "source": []
  },
  {
   "cell_type": "code",
   "execution_count": null,
   "metadata": {},
   "outputs": [],
   "source": []
  },
  {
   "cell_type": "code",
   "execution_count": null,
   "metadata": {},
   "outputs": [],
   "source": []
  },
  {
   "cell_type": "code",
   "execution_count": null,
   "metadata": {},
   "outputs": [],
   "source": []
  },
  {
   "cell_type": "code",
   "execution_count": null,
   "metadata": {},
   "outputs": [],
   "source": []
  },
  {
   "cell_type": "code",
   "execution_count": null,
   "metadata": {},
   "outputs": [],
   "source": []
  },
  {
   "cell_type": "code",
   "execution_count": null,
   "metadata": {},
   "outputs": [],
   "source": []
  },
  {
   "cell_type": "code",
   "execution_count": null,
   "metadata": {},
   "outputs": [],
   "source": []
  },
  {
   "cell_type": "code",
   "execution_count": null,
   "metadata": {},
   "outputs": [],
   "source": []
  },
  {
   "cell_type": "code",
   "execution_count": null,
   "metadata": {},
   "outputs": [],
   "source": []
  },
  {
   "cell_type": "code",
   "execution_count": null,
   "metadata": {},
   "outputs": [],
   "source": []
  },
  {
   "cell_type": "code",
   "execution_count": null,
   "metadata": {},
   "outputs": [],
   "source": []
  },
  {
   "cell_type": "code",
   "execution_count": null,
   "metadata": {},
   "outputs": [],
   "source": []
  },
  {
   "cell_type": "code",
   "execution_count": null,
   "metadata": {},
   "outputs": [],
   "source": []
  },
  {
   "cell_type": "code",
   "execution_count": null,
   "metadata": {},
   "outputs": [],
   "source": []
  },
  {
   "cell_type": "code",
   "execution_count": null,
   "metadata": {},
   "outputs": [],
   "source": []
  },
  {
   "cell_type": "code",
   "execution_count": null,
   "metadata": {},
   "outputs": [],
   "source": []
  },
  {
   "cell_type": "code",
   "execution_count": null,
   "metadata": {},
   "outputs": [],
   "source": []
  },
  {
   "cell_type": "code",
   "execution_count": null,
   "metadata": {},
   "outputs": [],
   "source": []
  }
 ],
 "metadata": {
  "kernelspec": {
   "display_name": "Python 3",
   "language": "python",
   "name": "python3"
  },
  "language_info": {
   "codemirror_mode": {
    "name": "ipython",
    "version": 3
   },
   "file_extension": ".py",
   "mimetype": "text/x-python",
   "name": "python",
   "nbconvert_exporter": "python",
   "pygments_lexer": "ipython3",
   "version": "3.8.0"
  }
 },
 "nbformat": 4,
 "nbformat_minor": 4
}
